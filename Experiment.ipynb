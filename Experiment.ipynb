{
 "cells": [
  {
   "cell_type": "code",
   "execution_count": 130,
   "id": "c6e6433a",
   "metadata": {},
   "outputs": [],
   "source": [
    "from z3 import *\n",
    "from astroid import *"
   ]
  },
  {
   "cell_type": "code",
   "execution_count": 131,
   "id": "a1895478",
   "metadata": {},
   "outputs": [],
   "source": [
    "# Dictionary to simulate parsed type annotations\n",
    "types = {\n",
    "    'x': 'int',\n",
    "    'y': 'int',\n",
    "    'z': 'int',\n",
    "}"
   ]
  },
  {
   "cell_type": "code",
   "execution_count": 132,
   "id": "c41d5ae2",
   "metadata": {},
   "outputs": [],
   "source": [
    "# Strings to simulate simple preconditions\n",
    "pre = [\n",
    "    'x ** 3 + y ** 3 == z ** 3',\n",
    "#     'x > 0 and y > 0 and z > 0', as expected, this extra condition breaks Z3 so this is somehing we need to look out for!\n",
    "    '(x >= 0 and y >= 0) and z >= 0',\n",
    "]"
   ]
  },
  {
   "cell_type": "code",
   "execution_count": 133,
   "id": "af0bcf15",
   "metadata": {},
   "outputs": [
    {
     "name": "stdout",
     "output_type": "stream",
     "text": [
      "[x = 0, z = 0, y = 0]\n"
     ]
    }
   ],
   "source": [
    "# Here is what we want\n",
    "x = Int('x')\n",
    "y = Int('y')\n",
    "z = Int('z')\n",
    "solve(x ** 3 + y ** 3 == z ** 3, x >= 0, y >= 0, z >= 0)"
   ]
  },
  {
   "cell_type": "code",
   "execution_count": 134,
   "id": "6d2c50a4",
   "metadata": {},
   "outputs": [
    {
     "data": {
      "text/plain": [
       "(<Expr l.1 at 0x7fa8c0131df0>, <Expr l.1 at 0x7fa8c0131790>)"
      ]
     },
     "execution_count": 134,
     "metadata": {},
     "output_type": "execute_result"
    }
   ],
   "source": [
    "a, b = map(parse, pre)\n",
    "a, b = a.body[0], b.body[0] # It is valid to assume preconditions are one line\n",
    "a, b"
   ]
  },
  {
   "cell_type": "code",
   "execution_count": 135,
   "id": "0142a982",
   "metadata": {},
   "outputs": [
    {
     "data": {
      "text/plain": [
       "(<Compare l.1 at 0x7fa8c0131c70>, <BoolOp l.1 at 0x7fa8c01315e0>)"
      ]
     },
     "execution_count": 135,
     "metadata": {},
     "output_type": "execute_result"
    }
   ],
   "source": [
    "# \"An Expr is any expression that does not have its value used or stored\" from astroid docs, so a and b must be of type Expr\n",
    "a, b = a.value, b.value\n",
    "a, b"
   ]
  },
  {
   "cell_type": "code",
   "execution_count": 136,
   "id": "a31d3654",
   "metadata": {},
   "outputs": [],
   "source": [
    "# It is important to determine what types <Expr>.value can take on\n",
    "# For now, we will only consider Compare and BoolOp"
   ]
  },
  {
   "cell_type": "code",
   "execution_count": 137,
   "id": "bc658703",
   "metadata": {},
   "outputs": [
    {
     "data": {
      "text/plain": [
       "(<BinOp l.1 at 0x7fa8c0131e20>, [('==', <BinOp l.1 at 0x7fa8c0131190>)])"
      ]
     },
     "execution_count": 137,
     "metadata": {},
     "output_type": "execute_result"
    }
   ],
   "source": [
    "a.left, a.ops"
   ]
  },
  {
   "cell_type": "code",
   "execution_count": 138,
   "id": "dc3d13d7",
   "metadata": {},
   "outputs": [],
   "source": [
    "def apply_name(name, typ):\n",
    "    \"\"\"Set up the appropriate variable representation in Z3 based onn name an type (typ).\"\"\"\n",
    "    # TODO: determine full list of supported types\n",
    "    if typ == 'int':\n",
    "        return Int(name)\n",
    "\n",
    "def parse_compare(node, types):\n",
    "    \"\"\"Currently only supports comparisons with builtin arithmetic and boolean operations. \n",
    "    DOES NOT support builtin math functions or anything of the sort (yet).\"\"\"\n",
    "    left, ops = node.left, node.ops\n",
    "    if isinstance(left, BinOp):\n",
    "        left = parse_bin_op(left, types)\n",
    "    elif isinstance(left, Const):\n",
    "        left = left.value\n",
    "    elif isinstance(left, Name):\n",
    "        left = apply_name(left.name, types[left.name])\n",
    "    else:\n",
    "        # Throw some error\n",
    "        pass\n",
    "    for item in ops:\n",
    "        op, right = item\n",
    "        if isinstance(right, BinOp):\n",
    "            right = parse_bin_op(right, types)\n",
    "        elif isinstance(right, Const):\n",
    "            right = right.value\n",
    "        elif isinstance(right, Name):\n",
    "            right = apply_name(right.name, types[right.name])\n",
    "        else:\n",
    "            # Throw some error\n",
    "            pass\n",
    "        left = apply_bin_op(left, op, right)\n",
    "    return left\n",
    "            \n",
    "def parse_bin_op(node, types):\n",
    "    \"\"\"Recurse on node.left, node.op, node.right.\"\"\"\n",
    "    # TODO: determine full list of what node.left or node.right can be\n",
    "    left, op, right = node.left, node.op, node.right\n",
    "    if isinstance(left, BinOp):\n",
    "        left = parse_bin_op(left, types)\n",
    "    elif isinstance(left, Const):\n",
    "        left = left.value\n",
    "    elif isinstance(left, Name):\n",
    "        left = apply_name(left.name, types[left.name])\n",
    "    else:\n",
    "        # Throw some error\n",
    "        pass\n",
    "    \n",
    "    if isinstance(right, BinOp):\n",
    "        right = parse_bin_op(right, types)\n",
    "    elif isinstance(right, Const):\n",
    "        right = right.value\n",
    "    elif isinstance(right, Name):\n",
    "        right = apply_name(right.name, types[right.name])\n",
    "    else:\n",
    "        # Throw some error\n",
    "        pass\n",
    "    \n",
    "    return apply_bin_op(left, op, right)\n",
    "        \n",
    "def apply_bin_op(left, op, right):\n",
    "    \"\"\"Given left, right, op, apply the binary operation.\"\"\"\n",
    "    # Todo: find out which binary operations are supported\n",
    "    if op == '+':\n",
    "        return left + right\n",
    "    elif op == '**':\n",
    "        return left ** right\n",
    "    elif op == '==':\n",
    "        return left == right\n",
    "    elif op == '<=':\n",
    "        return left <= right\n",
    "    elif op == '>=':\n",
    "        return left >= right"
   ]
  },
  {
   "cell_type": "code",
   "execution_count": 139,
   "id": "b165fd87",
   "metadata": {},
   "outputs": [
    {
     "data": {
      "text/html": [
       "x<sup>3</sup> + y<sup>3</sup>"
      ],
      "text/plain": [
       "x**3 + y**3"
      ]
     },
     "execution_count": 139,
     "metadata": {},
     "output_type": "execute_result"
    }
   ],
   "source": [
    "parse_bin_op(a.left, types)               "
   ]
  },
  {
   "cell_type": "code",
   "execution_count": 140,
   "id": "493b41fc",
   "metadata": {},
   "outputs": [
    {
     "name": "stdout",
     "output_type": "stream",
     "text": [
      "[x = 0, z = 0, y = 0]\n"
     ]
    }
   ],
   "source": [
    "solve(parse_compare(a, types))"
   ]
  },
  {
   "cell_type": "code",
   "execution_count": null,
   "id": "5f5ff66c",
   "metadata": {},
   "outputs": [],
   "source": []
  },
  {
   "cell_type": "code",
   "execution_count": null,
   "id": "caeea35f",
   "metadata": {},
   "outputs": [],
   "source": []
  },
  {
   "cell_type": "code",
   "execution_count": null,
   "id": "a5ff9554",
   "metadata": {},
   "outputs": [],
   "source": []
  },
  {
   "cell_type": "code",
   "execution_count": null,
   "id": "6cfa3536",
   "metadata": {},
   "outputs": [],
   "source": []
  }
 ],
 "metadata": {
  "kernelspec": {
   "display_name": "Python 3 (ipykernel)",
   "language": "python",
   "name": "python3"
  },
  "language_info": {
   "codemirror_mode": {
    "name": "ipython",
    "version": 3
   },
   "file_extension": ".py",
   "mimetype": "text/x-python",
   "name": "python",
   "nbconvert_exporter": "python",
   "pygments_lexer": "ipython3",
   "version": "3.8.10"
  }
 },
 "nbformat": 4,
 "nbformat_minor": 5
}

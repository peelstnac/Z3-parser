{
 "cells": [
  {
   "cell_type": "code",
   "execution_count": 2,
   "id": "c6e6433a",
   "metadata": {},
   "outputs": [],
   "source": [
    "from z3 import *\n",
    "from astroid import *"
   ]
  },
  {
   "cell_type": "code",
   "execution_count": 3,
   "id": "a1895478",
   "metadata": {},
   "outputs": [],
   "source": [
    "# Dictionary to simulate parsed type annotations\n",
    "types = {\n",
    "    'x': 'int',\n",
    "    'y': 'int',\n",
    "    'z': 'int',\n",
    "}"
   ]
  },
  {
   "cell_type": "code",
   "execution_count": 60,
   "id": "c41d5ae2",
   "metadata": {},
   "outputs": [],
   "source": [
    "# Strings to simulate simple preconditions\n",
    "pre = [\n",
    "    'x ** 3 + y ** 3 == z ** 3',\n",
    "#     'x > 0 and y > 0 and z > 0', as expected, this extra condition breaks Z3 so this is somehing we need to look out for!\n",
    "    '(x >= 0 and y >= 0 and z >= 0) or not (x < 0 or y < 0 or z < 0)',\n",
    "]"
   ]
  },
  {
   "cell_type": "code",
   "execution_count": 29,
   "id": "af0bcf15",
   "metadata": {},
   "outputs": [
    {
     "name": "stdout",
     "output_type": "stream",
     "text": [
      "[x = 0, z = 0, y = 0]\n"
     ]
    }
   ],
   "source": [
    "# Here is what we want\n",
    "x = Int('x')\n",
    "y = Int('y')\n",
    "z = Int('z')\n",
    "solve(x ** 3 + y ** 3 == z ** 3, x >= 0, y >= 0, z >= 0)"
   ]
  },
  {
   "cell_type": "code",
   "execution_count": 14,
   "id": "6d2c50a4",
   "metadata": {},
   "outputs": [
    {
     "data": {
      "text/plain": [
       "(<Expr l.1 at 0x7f7eb82c6100>, <Expr l.1 at 0x7f7eb82c68e0>)"
      ]
     },
     "execution_count": 14,
     "metadata": {},
     "output_type": "execute_result"
    }
   ],
   "source": [
    "a, b = map(parse, pre)\n",
    "a, b = a.body[0], b.body[0] # It is valid to assume preconditions are one line\n",
    "a, b"
   ]
  },
  {
   "cell_type": "code",
   "execution_count": 15,
   "id": "0142a982",
   "metadata": {},
   "outputs": [
    {
     "data": {
      "text/plain": [
       "(<Compare l.1 at 0x7f7eb82c6160>, <BoolOp l.1 at 0x7f7eb82c64c0>)"
      ]
     },
     "execution_count": 15,
     "metadata": {},
     "output_type": "execute_result"
    }
   ],
   "source": [
    "# \"An Expr is any expression that does not have its value used or stored\" from astroid docs, so a and b must be of type Expr\n",
    "a, b = a.value, b.value\n",
    "a, b"
   ]
  },
  {
   "cell_type": "code",
   "execution_count": 16,
   "id": "a31d3654",
   "metadata": {},
   "outputs": [],
   "source": [
    "# It is important to determine what types <Expr>.value can take on\n",
    "# For now, we will only consider Compare and BoolOp"
   ]
  },
  {
   "cell_type": "code",
   "execution_count": 17,
   "id": "bc658703",
   "metadata": {},
   "outputs": [
    {
     "data": {
      "text/plain": [
       "(<BinOp l.1 at 0x7f7eb82c6190>, [('==', <BinOp l.1 at 0x7f7eb82c6310>)])"
      ]
     },
     "execution_count": 17,
     "metadata": {},
     "output_type": "execute_result"
    }
   ],
   "source": [
    "a.left, a.ops"
   ]
  },
  {
   "cell_type": "code",
   "execution_count": 121,
   "id": "dc3d13d7",
   "metadata": {},
   "outputs": [],
   "source": [
    "def reduce_operation(operation, types):\n",
    "    if isinstance(operation, BoolOp):\n",
    "        operation = parse_bool_op(operation, types)\n",
    "    elif isinstance(operation, UnaryOp):\n",
    "        operation = parse_unary_op(operation, types)\n",
    "    elif isinstance(operation, Compare):\n",
    "        operation = parse_compare(operation, types)\n",
    "    elif isinstance(operation, BinOp):\n",
    "        operation = parse_bin_op(operation, types)\n",
    "    elif isinstance(operation, Const):\n",
    "        operation = operation.value\n",
    "    elif isinstance(operation, Name):\n",
    "        operation = apply_name(operation.name, types[operation.name])\n",
    "    else:\n",
    "        # Throw some error\n",
    "        pass\n",
    "    return operation\n",
    "\n",
    "def apply_name(name, typ):\n",
    "    \"\"\"Set up the appropriate variable representation in Z3 based onn name an type (typ).\"\"\"\n",
    "    # TODO: determine full list of supported types\n",
    "    if typ == 'int':\n",
    "        return Int(name)\n",
    "\n",
    "def parse_compare(node, types):\n",
    "    \"\"\"Currently only supports comparisons with builtin arithmetic and boolean operations. \n",
    "    DOES NOT support builtin math functions or anything of the sort (yet).\"\"\"\n",
    "    left, ops = node.left, node.ops\n",
    "    left = reduce_operation(left, types)\n",
    "    for item in ops:\n",
    "        op, right = item\n",
    "        right = reduce_operation(right, types)\n",
    "        left = apply_bin_op(left, op, right)\n",
    "    return left\n",
    "            \n",
    "def parse_bin_op(node, types):\n",
    "    \"\"\"Recurse on node.left, node.op, node.right.\"\"\"\n",
    "    # TODO: determine full list of what node.left or node.right can be\n",
    "    left, op, right = node.left, node.op, node.right\n",
    "    left = reduce_operation(left, types)\n",
    "    right = reduce_operation(right, types)\n",
    "    return apply_bin_op(left, op, right)\n",
    "\n",
    "def apply_unary_op(left, op):\n",
    "    if op == 'not':\n",
    "        return Not(left)\n",
    "        \n",
    "def apply_bin_op(left, op, right):\n",
    "    \"\"\"Given left, right, op, apply the binary operation.\"\"\"\n",
    "    # Todo: find out which binary operations are supported\n",
    "    if op == '+':\n",
    "        return left + right\n",
    "    elif op == '**':\n",
    "        return left ** right\n",
    "    elif op == '==':\n",
    "        return left == right\n",
    "    elif op == '<=':\n",
    "        return left <= right\n",
    "    elif op == '>=':\n",
    "        return left >= right\n",
    "    elif op == '<':\n",
    "        return left < right\n",
    "    elif op == '>':\n",
    "        return left > right\n",
    "    \n",
    "def parse_unary_op(node, types):\n",
    "    left, op = node.operand, node.op\n",
    "    left = reduce_operation(left, types)\n",
    "    return apply_unary_op(left, op)\n",
    "    \n",
    "def parse_bool_op(node, types):\n",
    "    op, values = node.op, node.values\n",
    "    values = [reduce_operation(x, types) for x in values]\n",
    "    return apply_bool_op(op, values)\n",
    "\n",
    "def apply_bool_op(op, values):\n",
    "    if op == 'and':\n",
    "        return And(values)\n",
    "    elif op == 'or':\n",
    "        return Or(values)"
   ]
  },
  {
   "cell_type": "code",
   "execution_count": 122,
   "id": "b165fd87",
   "metadata": {},
   "outputs": [
    {
     "data": {
      "text/html": [
       "x<sup>3</sup> + y<sup>3</sup>"
      ],
      "text/plain": [
       "x**3 + y**3"
      ]
     },
     "execution_count": 122,
     "metadata": {},
     "output_type": "execute_result"
    }
   ],
   "source": [
    "parse_bin_op(a.left, types)               "
   ]
  },
  {
   "cell_type": "code",
   "execution_count": 123,
   "id": "493b41fc",
   "metadata": {},
   "outputs": [
    {
     "data": {
      "text/html": [
       "x<sup>3</sup> + y<sup>3</sup> = z<sup>3</sup>"
      ],
      "text/plain": [
       "x**3 + y**3 == z**3"
      ]
     },
     "execution_count": 123,
     "metadata": {},
     "output_type": "execute_result"
    }
   ],
   "source": [
    "parse_compare(a, types)"
   ]
  },
  {
   "cell_type": "code",
   "execution_count": 124,
   "id": "c9999a71",
   "metadata": {},
   "outputs": [
    {
     "data": {
      "text/html": [
       "x &ge; 0 &and; y &ge; 0 &and; z &ge; 0 &or; &not;(x &lt; 0 &or; y &lt; 0 &or; z &lt; 0)"
      ],
      "text/plain": [
       "Or(And(x >= 0, y >= 0, z >= 0),\n",
       "   Not(Or(x < 0, y < 0, z < 0)))"
      ]
     },
     "execution_count": 124,
     "metadata": {},
     "output_type": "execute_result"
    }
   ],
   "source": [
    "parse_bool_op(b, types)"
   ]
  },
  {
   "cell_type": "code",
   "execution_count": null,
   "id": "5f5ff66c",
   "metadata": {},
   "outputs": [],
   "source": []
  },
  {
   "cell_type": "code",
   "execution_count": null,
   "id": "caeea35f",
   "metadata": {},
   "outputs": [],
   "source": []
  },
  {
   "cell_type": "code",
   "execution_count": null,
   "id": "a5ff9554",
   "metadata": {},
   "outputs": [],
   "source": []
  },
  {
   "cell_type": "code",
   "execution_count": null,
   "id": "6cfa3536",
   "metadata": {},
   "outputs": [],
   "source": []
  },
  {
   "cell_type": "code",
   "execution_count": null,
   "id": "ec34b99b",
   "metadata": {},
   "outputs": [],
   "source": []
  }
 ],
 "metadata": {
  "kernelspec": {
   "display_name": "Python 3 (ipykernel)",
   "language": "python",
   "name": "python3"
  },
  "language_info": {
   "codemirror_mode": {
    "name": "ipython",
    "version": 3
   },
   "file_extension": ".py",
   "mimetype": "text/x-python",
   "name": "python",
   "nbconvert_exporter": "python",
   "pygments_lexer": "ipython3",
   "version": "3.8.10"
  }
 },
 "nbformat": 4,
 "nbformat_minor": 5
}
